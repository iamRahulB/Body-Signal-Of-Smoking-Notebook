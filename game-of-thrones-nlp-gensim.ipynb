{
 "cells": [
  {
   "cell_type": "code",
   "execution_count": 1,
   "id": "28bdba91",
   "metadata": {
    "_cell_guid": "b1076dfc-b9ad-4769-8c92-a6c4dae69d19",
    "_uuid": "8f2839f25d086af736a60e9eeb907d3b93b6e0e5",
    "execution": {
     "iopub.execute_input": "2024-02-14T19:55:46.877800Z",
     "iopub.status.busy": "2024-02-14T19:55:46.876854Z",
     "iopub.status.idle": "2024-02-14T19:56:01.073863Z",
     "shell.execute_reply": "2024-02-14T19:56:01.072458Z"
    },
    "papermill": {
     "duration": 14.208007,
     "end_time": "2024-02-14T19:56:01.077143",
     "exception": false,
     "start_time": "2024-02-14T19:55:46.869136",
     "status": "completed"
    },
    "tags": []
   },
   "outputs": [],
   "source": [
    "import gensim\n",
    "import os\n",
    "from nltk import sent_tokenize\n",
    "from gensim.utils import simple_preprocess"
   ]
  },
  {
   "cell_type": "code",
   "execution_count": 2,
   "id": "aa09cbf8",
   "metadata": {
    "execution": {
     "iopub.execute_input": "2024-02-14T19:56:01.089353Z",
     "iopub.status.busy": "2024-02-14T19:56:01.088574Z",
     "iopub.status.idle": "2024-02-14T19:56:14.210303Z",
     "shell.execute_reply": "2024-02-14T19:56:14.208859Z"
    },
    "papermill": {
     "duration": 13.131459,
     "end_time": "2024-02-14T19:56:14.213699",
     "exception": false,
     "start_time": "2024-02-14T19:56:01.082240",
     "status": "completed"
    },
    "tags": []
   },
   "outputs": [],
   "source": [
    "story=[]\n",
    "path=\"/kaggle/input/game-of-thrones-books\"\n",
    "for file in os.listdir(path):\n",
    "    f=open(os.path.join(path,file), \"r\", encoding=\"latin-1\")\n",
    "    corpus=f.read()\n",
    "    raw_sent=sent_tokenize(corpus)\n",
    "    for sent in raw_sent:\n",
    "        story.append(simple_preprocess(sent))\n",
    "        "
   ]
  },
  {
   "cell_type": "code",
   "execution_count": 3,
   "id": "f01309d0",
   "metadata": {
    "execution": {
     "iopub.execute_input": "2024-02-14T19:56:14.225269Z",
     "iopub.status.busy": "2024-02-14T19:56:14.224830Z",
     "iopub.status.idle": "2024-02-14T19:56:14.230527Z",
     "shell.execute_reply": "2024-02-14T19:56:14.229324Z"
    },
    "papermill": {
     "duration": 0.014276,
     "end_time": "2024-02-14T19:56:14.233057",
     "exception": false,
     "start_time": "2024-02-14T19:56:14.218781",
     "status": "completed"
    },
    "tags": []
   },
   "outputs": [],
   "source": [
    "from gensim.models import Word2Vec\n",
    "\n"
   ]
  },
  {
   "cell_type": "code",
   "execution_count": 4,
   "id": "8d75515b",
   "metadata": {
    "execution": {
     "iopub.execute_input": "2024-02-14T19:56:14.243897Z",
     "iopub.status.busy": "2024-02-14T19:56:14.243505Z",
     "iopub.status.idle": "2024-02-14T19:56:14.250479Z",
     "shell.execute_reply": "2024-02-14T19:56:14.249470Z"
    },
    "papermill": {
     "duration": 0.015136,
     "end_time": "2024-02-14T19:56:14.252802",
     "exception": false,
     "start_time": "2024-02-14T19:56:14.237666",
     "status": "completed"
    },
    "tags": []
   },
   "outputs": [],
   "source": [
    "model=Word2Vec(window=10,min_count=2)"
   ]
  },
  {
   "cell_type": "code",
   "execution_count": 5,
   "id": "19ce4be4",
   "metadata": {
    "execution": {
     "iopub.execute_input": "2024-02-14T19:56:14.263881Z",
     "iopub.status.busy": "2024-02-14T19:56:14.263355Z",
     "iopub.status.idle": "2024-02-14T19:56:15.464270Z",
     "shell.execute_reply": "2024-02-14T19:56:15.462935Z"
    },
    "papermill": {
     "duration": 1.21003,
     "end_time": "2024-02-14T19:56:15.467251",
     "exception": false,
     "start_time": "2024-02-14T19:56:14.257221",
     "status": "completed"
    },
    "tags": []
   },
   "outputs": [],
   "source": [
    "model.build_vocab(story)"
   ]
  },
  {
   "cell_type": "code",
   "execution_count": 6,
   "id": "0805845d",
   "metadata": {
    "execution": {
     "iopub.execute_input": "2024-02-14T19:56:15.478632Z",
     "iopub.status.busy": "2024-02-14T19:56:15.477478Z",
     "iopub.status.idle": "2024-02-14T19:56:24.778196Z",
     "shell.execute_reply": "2024-02-14T19:56:24.776841Z"
    },
    "papermill": {
     "duration": 9.30915,
     "end_time": "2024-02-14T19:56:24.780806",
     "exception": false,
     "start_time": "2024-02-14T19:56:15.471656",
     "status": "completed"
    },
    "tags": []
   },
   "outputs": [
    {
     "data": {
      "text/plain": [
       "(6570707, 8628190)"
      ]
     },
     "execution_count": 6,
     "metadata": {},
     "output_type": "execute_result"
    }
   ],
   "source": [
    "model.train(story,total_examples=model.corpus_count,epochs=model.epochs)"
   ]
  },
  {
   "cell_type": "code",
   "execution_count": 7,
   "id": "bf714f7c",
   "metadata": {
    "execution": {
     "iopub.execute_input": "2024-02-14T19:56:24.791867Z",
     "iopub.status.busy": "2024-02-14T19:56:24.791417Z",
     "iopub.status.idle": "2024-02-14T19:56:24.813194Z",
     "shell.execute_reply": "2024-02-14T19:56:24.812391Z"
    },
    "papermill": {
     "duration": 0.032361,
     "end_time": "2024-02-14T19:56:24.817766",
     "exception": false,
     "start_time": "2024-02-14T19:56:24.785405",
     "status": "completed"
    },
    "tags": []
   },
   "outputs": [
    {
     "data": {
      "text/plain": [
       "[('type', 0.8864905834197998),\n",
       " ('martin', 0.8580640554428101),\n",
       " ('verse', 0.8526015281677246),\n",
       " ('colorful', 0.8514665365219116),\n",
       " ('conspicuously', 0.8478153347969055),\n",
       " ('tarle', 0.8452944159507751),\n",
       " ('trappings', 0.8434843420982361),\n",
       " ('appetite', 0.8416469097137451),\n",
       " ('thrall', 0.8415864109992981),\n",
       " ('mogat', 0.8404271006584167)]"
      ]
     },
     "execution_count": 7,
     "metadata": {},
     "output_type": "execute_result"
    }
   ],
   "source": [
    "model.wv.most_similar(\"author\")"
   ]
  },
  {
   "cell_type": "code",
   "execution_count": 8,
   "id": "2e9c05bb",
   "metadata": {
    "execution": {
     "iopub.execute_input": "2024-02-14T19:56:24.839565Z",
     "iopub.status.busy": "2024-02-14T19:56:24.838823Z",
     "iopub.status.idle": "2024-02-14T19:56:24.912837Z",
     "shell.execute_reply": "2024-02-14T19:56:24.911306Z"
    },
    "papermill": {
     "duration": 0.090178,
     "end_time": "2024-02-14T19:56:24.917600",
     "exception": false,
     "start_time": "2024-02-14T19:56:24.827422",
     "status": "completed"
    },
    "tags": []
   },
   "outputs": [],
   "source": [
    "model.save(\"word2vec_model.bin\")\n"
   ]
  },
  {
   "cell_type": "code",
   "execution_count": null,
   "id": "d113aeb8",
   "metadata": {
    "papermill": {
     "duration": 0.004406,
     "end_time": "2024-02-14T19:56:24.931030",
     "exception": false,
     "start_time": "2024-02-14T19:56:24.926624",
     "status": "completed"
    },
    "tags": []
   },
   "outputs": [],
   "source": []
  },
  {
   "cell_type": "code",
   "execution_count": null,
   "id": "ef3aa23f",
   "metadata": {
    "papermill": {
     "duration": 0.004308,
     "end_time": "2024-02-14T19:56:24.940132",
     "exception": false,
     "start_time": "2024-02-14T19:56:24.935824",
     "status": "completed"
    },
    "tags": []
   },
   "outputs": [],
   "source": []
  },
  {
   "cell_type": "code",
   "execution_count": null,
   "id": "2f867ff9",
   "metadata": {
    "papermill": {
     "duration": 0.004289,
     "end_time": "2024-02-14T19:56:24.948989",
     "exception": false,
     "start_time": "2024-02-14T19:56:24.944700",
     "status": "completed"
    },
    "tags": []
   },
   "outputs": [],
   "source": []
  }
 ],
 "metadata": {
  "kaggle": {
   "accelerator": "none",
   "dataSources": [
    {
     "datasetId": 118601,
     "sourceId": 284856,
     "sourceType": "datasetVersion"
    }
   ],
   "dockerImageVersionId": 30646,
   "isGpuEnabled": false,
   "isInternetEnabled": true,
   "language": "python",
   "sourceType": "notebook"
  },
  "kernelspec": {
   "display_name": "Python 3",
   "language": "python",
   "name": "python3"
  },
  "language_info": {
   "codemirror_mode": {
    "name": "ipython",
    "version": 3
   },
   "file_extension": ".py",
   "mimetype": "text/x-python",
   "name": "python",
   "nbconvert_exporter": "python",
   "pygments_lexer": "ipython3",
   "version": "3.10.13"
  },
  "papermill": {
   "default_parameters": {},
   "duration": 42.980623,
   "end_time": "2024-02-14T19:56:26.377772",
   "environment_variables": {},
   "exception": null,
   "input_path": "__notebook__.ipynb",
   "output_path": "__notebook__.ipynb",
   "parameters": {},
   "start_time": "2024-02-14T19:55:43.397149",
   "version": "2.5.0"
  }
 },
 "nbformat": 4,
 "nbformat_minor": 5
}
